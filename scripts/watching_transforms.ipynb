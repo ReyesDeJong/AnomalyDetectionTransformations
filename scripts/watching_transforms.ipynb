{
 "cells": [
  {
   "cell_type": "code",
   "execution_count": 2,
   "metadata": {
    "collapsed": true,
    "pycharm": {
     "is_executing": false
    }
   },
   "outputs": [
    {
     "name": "stderr",
     "text": [
      "Using TensorFlow backend.\n"
     ],
     "output_type": "stream"
    }
   ],
   "source": [
    "%matplotlib inline\n",
    "\n",
    "import numpy as np\n",
    "import matplotlib.pyplot as plt\n",
    "import pickle as pkl\n",
    "import pandas as pd\n",
    "import os\n",
    "import sys\n",
    "\n",
    "PROJECT_PATH = os.path.abspath(\n",
    "    os.path.join(os.path.dirname('__file__'), '..'))\n",
    "sys.path.append(PROJECT_PATH)\n",
    "\n",
    "\n",
    "from modules.data_loaders.base_line_loaders import load_cifar10, load_hits\n",
    "from transformations import Transformer\n",
    "from models.encoders_decoders import conv_encoder, conv_decoder\n",
    "from utils import save_roc_pr_curve_data, get_class_name_from_index, get_channels_axis\n",
    "\n",
    "LARGE_DATASET_NAMES = ['cats-vs-dogs', 'hits']\n",
    "dataset_name, single_class_ind, subsample = ('cifar10', 1, True)\n",
    "\n",
    "if dataset_name=='cifar10':\n",
    "  (x_train, y_train), (x_test, y_test) = load_cifar10()\n",
    "if dataset_name=='hits':\n",
    "  (x_train, y_train), (x_test, y_test) = load_hits()\n",
    "  \n",
    "if subsample:\n",
    "  (x_train, y_train) = (x_train[:100], y_train[:100])\n",
    "\n",
    "transformer = Transformer(8, 8)\n",
    "\n",
    "# get inliers of specific class\n",
    "x_train_task = x_train[y_train.flatten() == single_class_ind]\n",
    "# [0_i, ..., (N_transforms-1)_i, ..., ..., 0_N_samples, ...,\n",
    "# (N_transforms-1)_N_samples] shape: (N_transforms*N_samples,)\n",
    "transformations_inds = np.tile(np.arange(transformer.n_transforms), len(x_train_task))\n",
    "x_train_task_transformed = transformer.transform_batch(np.repeat(x_train_task, transformer.n_transforms, axis=0),\n",
    "                                                       transformations_inds)"
   ]
  },
  {
   "cell_type": "code",
   "execution_count": 3,
   "outputs": [
    {
     "data": {
      "text/plain": "<matplotlib.image.AxesImage at 0x7f7b59ce1400>"
     },
     "metadata": {},
     "output_type": "execute_result",
     "execution_count": 3
    },
    {
     "data": {
      "text/plain": "<Figure size 432x288 with 1 Axes>",
      "image/png": "[encoded data removed]"
     },
     "metadata": {
      "needs_background": "light"
     },
     "output_type": "display_data"
    }
   ],
   "source": [
    "import matplotlib.pyplot as plt\n",
    "plt.imshow(x_train_task_transformed[1*72+5][...,0])"
   ],
   "metadata": {
    "collapsed": false,
    "pycharm": {
     "name": "#%%\n",
     "is_executing": false
    }
   }
  },
  {
   "cell_type": "code",
   "execution_count": 4,
   "outputs": [
    {
     "name": "stdout",
     "text": [
      "WARNING:tensorflow:From /home/ereyes/anaconda3/envs/tf/lib/python3.6/site-packages/tensorflow/python/framework/op_def_library.py:263: colocate_with (from tensorflow.python.framework.ops) is deprecated and will be removed in a future version.\nInstructions for updating:\nColocations handled automatically by placer.\n"
     ],
     "output_type": "stream"
    }
   ],
   "source": [
    "n, k = (10, 4)\n",
    "from models.wide_residual_network import create_wide_residual_network\n",
    "mdl1 = create_wide_residual_network((x_train.shape[1:]), transformer.n_transforms, n, k)\n",
    "mdl2 = create_wide_residual_network((21,21,1), transformer.n_transforms, n, k)"
   ],
   "metadata": {
    "collapsed": false,
    "pycharm": {
     "name": "#%%\n",
     "is_executing": false
    }
   }
  },
  {
   "cell_type": "code",
   "execution_count": 5,
   "outputs": [
    {
     "name": "stdout",
     "text": [
      "__________________________________________________________________________________________________\nLayer (type)                    Output Shape         Param #     Connected to                     \n==================================================================================================\ninput_1 (InputLayer)            (None, 32, 32, 3)    0                                            \n__________________________________________________________________________________________________\nconv2d_1 (Conv2D)               (None, 32, 32, 16)   432         input_1[0][0]                    \n__________________________________________________________________________________________________\nbatch_normalization_1 (BatchNor (None, 32, 32, 16)   64          conv2d_1[0][0]                   \n__________________________________________________________________________________________________\nactivation_1 (Activation)       (None, 32, 32, 16)   0           batch_normalization_1[0][0]      \n__________________________________________________________________________________________________\nconv2d_2 (Conv2D)               (None, 32, 32, 64)   9216        activation_1[0][0]               \n__________________________________________________________________________________________________\nbatch_normalization_2 (BatchNor (None, 32, 32, 64)   256         conv2d_2[0][0]                   \n__________________________________________________________________________________________________\nactivation_2 (Activation)       (None, 32, 32, 64)   0           batch_normalization_2[0][0]      \n__________________________________________________________________________________________________\ndropout_1 (Dropout)             (None, 32, 32, 64)   0           activation_2[0][0]               \n__________________________________________________________________________________________________\nconv2d_3 (Conv2D)               (None, 32, 32, 64)   36864       dropout_1[0][0]                  \n__________________________________________________________________________________________________\nconv2d_4 (Conv2D)               (None, 32, 32, 64)   1024        activation_1[0][0]               \n__________________________________________________________________________________________________\nadd_1 (Add)                     (None, 32, 32, 64)   0           conv2d_3[0][0]                   \n                                                                 conv2d_4[0][0]                   \n__________________________________________________________________________________________________\nbatch_normalization_3 (BatchNor (None, 32, 32, 64)   256         add_1[0][0]                      \n__________________________________________________________________________________________________\nactivation_3 (Activation)       (None, 32, 32, 64)   0           batch_normalization_3[0][0]      \n__________________________________________________________________________________________________\nconv2d_5 (Conv2D)               (None, 16, 16, 128)  73728       activation_3[0][0]               \n__________________________________________________________________________________________________\nbatch_normalization_4 (BatchNor (None, 16, 16, 128)  512         conv2d_5[0][0]                   \n__________________________________________________________________________________________________\nactivation_4 (Activation)       (None, 16, 16, 128)  0           batch_normalization_4[0][0]      \n__________________________________________________________________________________________________\ndropout_2 (Dropout)             (None, 16, 16, 128)  0           activation_4[0][0]               \n__________________________________________________________________________________________________\nconv2d_6 (Conv2D)               (None, 16, 16, 128)  147456      dropout_2[0][0]                  \n__________________________________________________________________________________________________\nconv2d_7 (Conv2D)               (None, 16, 16, 128)  8192        activation_3[0][0]               \n__________________________________________________________________________________________________\nadd_2 (Add)                     (None, 16, 16, 128)  0           conv2d_6[0][0]                   \n                                                                 conv2d_7[0][0]                   \n__________________________________________________________________________________________________\nbatch_normalization_5 (BatchNor (None, 16, 16, 128)  512         add_2[0][0]                      \n__________________________________________________________________________________________________\nactivation_5 (Activation)       (None, 16, 16, 128)  0           batch_normalization_5[0][0]      \n__________________________________________________________________________________________________\nconv2d_8 (Conv2D)               (None, 8, 8, 256)    294912      activation_5[0][0]               \n__________________________________________________________________________________________________\nbatch_normalization_6 (BatchNor (None, 8, 8, 256)    1024        conv2d_8[0][0]                   \n__________________________________________________________________________________________________\nactivation_6 (Activation)       (None, 8, 8, 256)    0           batch_normalization_6[0][0]      \n__________________________________________________________________________________________________\ndropout_3 (Dropout)             (None, 8, 8, 256)    0           activation_6[0][0]               \n__________________________________________________________________________________________________\nconv2d_9 (Conv2D)               (None, 8, 8, 256)    589824      dropout_3[0][0]                  \n__________________________________________________________________________________________________\nconv2d_10 (Conv2D)              (None, 8, 8, 256)    32768       activation_5[0][0]               \n__________________________________________________________________________________________________\nadd_3 (Add)                     (None, 8, 8, 256)    0           conv2d_9[0][0]                   \n                                                                 conv2d_10[0][0]                  \n__________________________________________________________________________________________________\nbatch_normalization_7 (BatchNor (None, 8, 8, 256)    1024        add_3[0][0]                      \n__________________________________________________________________________________________________\nactivation_7 (Activation)       (None, 8, 8, 256)    0           batch_normalization_7[0][0]      \n__________________________________________________________________________________________________\nglobal_average_pooling2d_1 (Glo (None, 256)          0           activation_7[0][0]               \n__________________________________________________________________________________________________\ndense_1 (Dense)                 (None, 72)           18504       global_average_pooling2d_1[0][0] \n__________________________________________________________________________________________________\nactivation_8 (Activation)       (None, 72)           0           dense_1[0][0]                    \n==================================================================================================\nTotal params: 1,216,568\nTrainable params: 1,214,744\nNon-trainable params: 1,824\n__________________________________________________________________________________________________\n"
     ],
     "output_type": "stream"
    }
   ],
   "source": [
    "mdl1.summary()"
   ],
   "metadata": {
    "collapsed": false,
    "pycharm": {
     "name": "#%%\n",
     "is_executing": false
    }
   }
  },
  {
   "cell_type": "code",
   "source": [
    "mdl2.summary()"
   ],
   "metadata": {
    "collapsed": false,
    "pycharm": {
     "name": "#%%\n",
     "is_executing": false
    }
   },
   "execution_count": 6,
   "outputs": [
    {
     "name": "stdout",
     "text": [
      "__________________________________________________________________________________________________\nLayer (type)                    Output Shape         Param #     Connected to                     \n==================================================================================================\ninput_2 (InputLayer)            (None, 21, 21, 1)    0                                            \n__________________________________________________________________________________________________\nconv2d_11 (Conv2D)              (None, 21, 21, 16)   144         input_2[0][0]                    \n__________________________________________________________________________________________________\nbatch_normalization_8 (BatchNor (None, 21, 21, 16)   64          conv2d_11[0][0]                  \n__________________________________________________________________________________________________\nactivation_9 (Activation)       (None, 21, 21, 16)   0           batch_normalization_8[0][0]      \n__________________________________________________________________________________________________\nconv2d_12 (Conv2D)              (None, 21, 21, 64)   9216        activation_9[0][0]               \n__________________________________________________________________________________________________\nbatch_normalization_9 (BatchNor (None, 21, 21, 64)   256         conv2d_12[0][0]                  \n__________________________________________________________________________________________________\nactivation_10 (Activation)      (None, 21, 21, 64)   0           batch_normalization_9[0][0]      \n__________________________________________________________________________________________________\ndropout_4 (Dropout)             (None, 21, 21, 64)   0           activation_10[0][0]              \n__________________________________________________________________________________________________\nconv2d_13 (Conv2D)              (None, 21, 21, 64)   36864       dropout_4[0][0]                  \n__________________________________________________________________________________________________\nconv2d_14 (Conv2D)              (None, 21, 21, 64)   1024        activation_9[0][0]               \n__________________________________________________________________________________________________\nadd_4 (Add)                     (None, 21, 21, 64)   0           conv2d_13[0][0]                  \n                                                                 conv2d_14[0][0]                  \n__________________________________________________________________________________________________\nbatch_normalization_10 (BatchNo (None, 21, 21, 64)   256         add_4[0][0]                      \n__________________________________________________________________________________________________\nactivation_11 (Activation)      (None, 21, 21, 64)   0           batch_normalization_10[0][0]     \n__________________________________________________________________________________________________\nconv2d_15 (Conv2D)              (None, 11, 11, 128)  73728       activation_11[0][0]              \n__________________________________________________________________________________________________\nbatch_normalization_11 (BatchNo (None, 11, 11, 128)  512         conv2d_15[0][0]                  \n__________________________________________________________________________________________________\nactivation_12 (Activation)      (None, 11, 11, 128)  0           batch_normalization_11[0][0]     \n__________________________________________________________________________________________________\ndropout_5 (Dropout)             (None, 11, 11, 128)  0           activation_12[0][0]              \n__________________________________________________________________________________________________\nconv2d_16 (Conv2D)              (None, 11, 11, 128)  147456      dropout_5[0][0]                  \n__________________________________________________________________________________________________\nconv2d_17 (Conv2D)              (None, 11, 11, 128)  8192        activation_11[0][0]              \n__________________________________________________________________________________________________\nadd_5 (Add)                     (None, 11, 11, 128)  0           conv2d_16[0][0]                  \n                                                                 conv2d_17[0][0]                  \n__________________________________________________________________________________________________\nbatch_normalization_12 (BatchNo (None, 11, 11, 128)  512         add_5[0][0]                      \n__________________________________________________________________________________________________\nactivation_13 (Activation)      (None, 11, 11, 128)  0           batch_normalization_12[0][0]     \n__________________________________________________________________________________________________\nconv2d_18 (Conv2D)              (None, 6, 6, 256)    294912      activation_13[0][0]              \n__________________________________________________________________________________________________\nbatch_normalization_13 (BatchNo (None, 6, 6, 256)    1024        conv2d_18[0][0]                  \n__________________________________________________________________________________________________\nactivation_14 (Activation)      (None, 6, 6, 256)    0           batch_normalization_13[0][0]     \n__________________________________________________________________________________________________\ndropout_6 (Dropout)             (None, 6, 6, 256)    0           activation_14[0][0]              \n__________________________________________________________________________________________________\nconv2d_19 (Conv2D)              (None, 6, 6, 256)    589824      dropout_6[0][0]                  \n__________________________________________________________________________________________________\nconv2d_20 (Conv2D)              (None, 6, 6, 256)    32768       activation_13[0][0]              \n__________________________________________________________________________________________________\nadd_6 (Add)                     (None, 6, 6, 256)    0           conv2d_19[0][0]                  \n                                                                 conv2d_20[0][0]                  \n__________________________________________________________________________________________________\nbatch_normalization_14 (BatchNo (None, 6, 6, 256)    1024        add_6[0][0]                      \n__________________________________________________________________________________________________\nactivation_15 (Activation)      (None, 6, 6, 256)    0           batch_normalization_14[0][0]     \n__________________________________________________________________________________________________\nglobal_average_pooling2d_2 (Glo (None, 256)          0           activation_15[0][0]              \n__________________________________________________________________________________________________\ndense_2 (Dense)                 (None, 72)           18504       global_average_pooling2d_2[0][0] \n__________________________________________________________________________________________________\nactivation_16 (Activation)      (None, 72)           0           dense_2[0][0]                    \n==================================================================================================\nTotal params: 1,216,280\nTrainable params: 1,214,456\nNon-trainable params: 1,824\n__________________________________________________________________________________________________\n"
     ],
     "output_type": "stream"
    }
   ]
  },
  {
   "cell_type": "code",
   "execution_count": 9,
   "outputs": [],
   "source": [
    "n_channels = x_train.shape[get_channels_axis()]\n",
    "input_side = 21#x_train.shape[2]  # channel side will always be at shape[2]\n",
    "enc = conv_encoder(input_side, n_channels)"
   ],
   "metadata": {
    "collapsed": false,
    "pycharm": {
     "name": "#%%\n",
     "is_executing": false
    }
   }
  },
  {
   "cell_type": "code",
   "execution_count": 10,
   "outputs": [
    {
     "name": "stdout",
     "text": [
      "_________________________________________________________________\nLayer (type)                 Output Shape              Param #   \n=================================================================\ninput_4 (InputLayer)         (None, 21, 21, 3)         0         \n_________________________________________________________________\nconv2d_24 (Conv2D)           (None, 11, 11, 64)        1792      \n_________________________________________________________________\nbatch_normalization_18 (Batc (None, 11, 11, 64)        256       \n_________________________________________________________________\nactivation_20 (Activation)   (None, 11, 11, 64)        0         \n_________________________________________________________________\nconv2d_25 (Conv2D)           (None, 6, 6, 128)         73856     \n_________________________________________________________________\nbatch_normalization_19 (Batc (None, 6, 6, 128)         512       \n_________________________________________________________________\nactivation_21 (Activation)   (None, 6, 6, 128)         0         \n_________________________________________________________________\nconv2d_26 (Conv2D)           (None, 3, 3, 256)         295168    \n_________________________________________________________________\nbatch_normalization_20 (Batc (None, 3, 3, 256)         1024      \n_________________________________________________________________\nactivation_22 (Activation)   (None, 3, 3, 256)         0         \n_________________________________________________________________\nflatten_2 (Flatten)          (None, 2304)              0         \n_________________________________________________________________\ndense_4 (Dense)              (None, 256)               590080    \n=================================================================\nTotal params: 962,688\nTrainable params: 961,792\nNon-trainable params: 896\n_________________________________________________________________\n"
     ],
     "output_type": "stream"
    }
   ],
   "source": [
    "enc.summary()"
   ],
   "metadata": {
    "collapsed": false,
    "pycharm": {
     "name": "#%%\n",
     "is_executing": false
    }
   }
  },
  {
   "cell_type": "code",
   "execution_count": null,
   "outputs": [],
   "source": [
    "\n"
   ],
   "metadata": {
    "collapsed": false,
    "pycharm": {
     "name": "#%%\n"
    }
   }
  }
 ],
 "metadata": {
  "language_info": {
   "codemirror_mode": {
    "name": "ipython",
    "version": 2
   },
   "file_extension": ".py",
   "mimetype": "text/x-python",
   "name": "python",
   "nbconvert_exporter": "python",
   "pygments_lexer": "ipython2",
   "version": "2.7.6"
  },
  "kernelspec": {
   "name": "python3",
   "language": "python",
   "display_name": "Python 3"
  },
  "pycharm": {
   "stem_cell": {
    "cell_type": "raw",
    "source": [],
    "metadata": {
     "collapsed": false
    }
   }
  }
 },
 "nbformat": 4,
 "nbformat_minor": 0
}