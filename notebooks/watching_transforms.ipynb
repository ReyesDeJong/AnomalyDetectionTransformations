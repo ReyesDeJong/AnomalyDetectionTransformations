{
 "cells": [
  {
   "cell_type": "code",
   "execution_count": 1,
   "metadata": {
    "collapsed": true,
    "pycharm": {
     "is_executing": false
    }
   },
   "outputs": [
    {
     "name": "stderr",
     "text": [
      "Using TensorFlow backend.\n"
     ],
     "output_type": "stream"
    }
   ],
   "source": [
    "%matplotlib inline\n",
    "\n",
    "import numpy as np\n",
    "import matplotlib.pyplot as plt\n",
    "import pickle as pkl\n",
    "import pandas as pd\n",
    "import os\n",
    "import sys\n",
    "\n",
    "PROJECT_PATH = os.path.abspath(\n",
    "    os.path.join(os.path.dirname('__file__'), '..'))\n",
    "sys.path.append(PROJECT_PATH)\n",
    "\n",
    "\n",
    "from modules.data_loaders.base_line_loaders import load_cifar10, load_hits\n",
    "from transformations import Transformer\n",
    "from models.encoders_decoders import conv_encoder, conv_decoder\n",
    "from utils import save_roc_pr_curve_data, get_class_name_from_index, get_channels_axis\n",
    "\n",
    "LARGE_DATASET_NAMES = ['cats-vs-dogs', 'hits']\n",
    "dataset_name, single_class_ind, subsample = ('hits', 1, True)\n",
    "\n",
    "if dataset_name=='cifar10':\n",
    "  (x_train, y_train), (x_test, y_test) = load_cifar10()\n",
    "if dataset_name=='hits':\n",
    "  (x_train, y_train), (x_test, y_test) = load_hits()\n",
    "  \n",
    "if subsample:\n",
    "  (x_train, y_train) = (x_train[:100], y_train[:100])\n",
    "\n",
    "transformer = Transformer(8, 8)\n",
    "\n",
    "# get inliers of specific class\n",
    "x_train_task = x_train[y_train.flatten() == single_class_ind]\n",
    "# [0_i, ..., (N_transforms-1)_i, ..., ..., 0_N_samples, ...,\n",
    "# (N_transforms-1)_N_samples] shape: (N_transforms*N_samples,)\n",
    "transformations_inds = np.tile(np.arange(transformer.n_transforms), len(x_train_task))\n",
    "x_train_task_transformed = transformer.transform_batch(np.repeat(x_train_task, transformer.n_transforms, axis=0),\n",
    "                                                       transformations_inds)"
   ]
  },
  {
   "cell_type": "code",
   "execution_count": 9,
   "outputs": [
    {
     "data": {
      "text/plain": "<matplotlib.image.AxesImage at 0x7efc640a25f8>"
     },
     "metadata": {},
     "output_type": "execute_result",
     "execution_count": 9
    },
    {
     "data": {
      "text/plain": "<Figure size 432x288 with 1 Axes>",
      "image/png": "[encoded data removed]"
     },
     "metadata": {
      "needs_background": "light"
     },
     "output_type": "display_data"
    }
   ],
   "source": [
    "import matplotlib.pyplot as plt\n",
    "plt.imshow(x_train_task_transformed[1*72+0][...,0])"
   ],
   "metadata": {
    "collapsed": false,
    "pycharm": {
     "name": "#%%\n",
     "is_executing": false
    }
   }
  },
  {
   "cell_type": "code",
   "execution_count": 10,
   "outputs": [],
   "source": [
    "n, k = (10, 4)\n",
    "from models.wide_residual_network import create_wide_residual_network\n",
    "mdl1 = create_wide_residual_network((x_train.shape[1:]), transformer.n_transforms, n, k)\n",
    "mdl2 = create_wide_residual_network((21,21,1), transformer.n_transforms, n, k)"
   ],
   "metadata": {
    "collapsed": false,
    "pycharm": {
     "name": "#%%\n",
     "is_executing": false
    }
   }
  },
  {
   "cell_type": "code",
   "execution_count": 11,
   "outputs": [
    {
     "name": "stdout",
     "text": [
      "__________________________________________________________________________________________________\nLayer (type)                    Output Shape         Param #     Connected to                     \n==================================================================================================\ninput_3 (InputLayer)            (None, 21, 21, 1)    0                                            \n__________________________________________________________________________________________________\nconv2d_21 (Conv2D)              (None, 21, 21, 16)   144         input_3[0][0]                    \n__________________________________________________________________________________________________\nbatch_normalization_15 (BatchNo (None, 21, 21, 16)   64          conv2d_21[0][0]                  \n__________________________________________________________________________________________________\nactivation_17 (Activation)      (None, 21, 21, 16)   0           batch_normalization_15[0][0]     \n__________________________________________________________________________________________________\nconv2d_22 (Conv2D)              (None, 21, 21, 64)   9216        activation_17[0][0]              \n__________________________________________________________________________________________________\nbatch_normalization_16 (BatchNo (None, 21, 21, 64)   256         conv2d_22[0][0]                  \n__________________________________________________________________________________________________\nactivation_18 (Activation)      (None, 21, 21, 64)   0           batch_normalization_16[0][0]     \n__________________________________________________________________________________________________\ndropout_7 (Dropout)             (None, 21, 21, 64)   0           activation_18[0][0]              \n__________________________________________________________________________________________________\nconv2d_23 (Conv2D)              (None, 21, 21, 64)   36864       dropout_7[0][0]                  \n__________________________________________________________________________________________________\nconv2d_24 (Conv2D)              (None, 21, 21, 64)   1024        activation_17[0][0]              \n__________________________________________________________________________________________________\nadd_7 (Add)                     (None, 21, 21, 64)   0           conv2d_23[0][0]                  \n                                                                 conv2d_24[0][0]                  \n__________________________________________________________________________________________________\nbatch_normalization_17 (BatchNo (None, 21, 21, 64)   256         add_7[0][0]                      \n__________________________________________________________________________________________________\nactivation_19 (Activation)      (None, 21, 21, 64)   0           batch_normalization_17[0][0]     \n__________________________________________________________________________________________________\nconv2d_25 (Conv2D)              (None, 11, 11, 128)  73728       activation_19[0][0]              \n__________________________________________________________________________________________________\nbatch_normalization_18 (BatchNo (None, 11, 11, 128)  512         conv2d_25[0][0]                  \n__________________________________________________________________________________________________\nactivation_20 (Activation)      (None, 11, 11, 128)  0           batch_normalization_18[0][0]     \n__________________________________________________________________________________________________\ndropout_8 (Dropout)             (None, 11, 11, 128)  0           activation_20[0][0]              \n__________________________________________________________________________________________________\nconv2d_26 (Conv2D)              (None, 11, 11, 128)  147456      dropout_8[0][0]                  \n__________________________________________________________________________________________________\nconv2d_27 (Conv2D)              (None, 11, 11, 128)  8192        activation_19[0][0]              \n__________________________________________________________________________________________________\nadd_8 (Add)                     (None, 11, 11, 128)  0           conv2d_26[0][0]                  \n                                                                 conv2d_27[0][0]                  \n__________________________________________________________________________________________________\nbatch_normalization_19 (BatchNo (None, 11, 11, 128)  512         add_8[0][0]                      \n__________________________________________________________________________________________________\nactivation_21 (Activation)      (None, 11, 11, 128)  0           batch_normalization_19[0][0]     \n__________________________________________________________________________________________________\nconv2d_28 (Conv2D)              (None, 6, 6, 256)    294912      activation_21[0][0]              \n__________________________________________________________________________________________________\nbatch_normalization_20 (BatchNo (None, 6, 6, 256)    1024        conv2d_28[0][0]                  \n__________________________________________________________________________________________________\nactivation_22 (Activation)      (None, 6, 6, 256)    0           batch_normalization_20[0][0]     \n__________________________________________________________________________________________________\ndropout_9 (Dropout)             (None, 6, 6, 256)    0           activation_22[0][0]              \n__________________________________________________________________________________________________\nconv2d_29 (Conv2D)              (None, 6, 6, 256)    589824      dropout_9[0][0]                  \n__________________________________________________________________________________________________\nconv2d_30 (Conv2D)              (None, 6, 6, 256)    32768       activation_21[0][0]              \n__________________________________________________________________________________________________\nadd_9 (Add)                     (None, 6, 6, 256)    0           conv2d_29[0][0]                  \n                                                                 conv2d_30[0][0]                  \n__________________________________________________________________________________________________\nbatch_normalization_21 (BatchNo (None, 6, 6, 256)    1024        add_9[0][0]                      \n__________________________________________________________________________________________________\nactivation_23 (Activation)      (None, 6, 6, 256)    0           batch_normalization_21[0][0]     \n__________________________________________________________________________________________________\nglobal_average_pooling2d_3 (Glo (None, 256)          0           activation_23[0][0]              \n__________________________________________________________________________________________________\ndense_3 (Dense)                 (None, 72)           18504       global_average_pooling2d_3[0][0] \n__________________________________________________________________________________________________\nactivation_24 (Activation)      (None, 72)           0           dense_3[0][0]                    \n==================================================================================================\nTotal params: 1,216,280\nTrainable params: 1,214,456\nNon-trainable params: 1,824\n__________________________________________________________________________________________________\n"
     ],
     "output_type": "stream"
    }
   ],
   "source": [
    "mdl1.summary()"
   ],
   "metadata": {
    "collapsed": false,
    "pycharm": {
     "name": "#%%\n",
     "is_executing": false
    }
   }
  },
  {
   "cell_type": "code",
   "source": [
    "mdl2.summary()"
   ],
   "metadata": {
    "collapsed": false,
    "pycharm": {
     "name": "#%%\n",
     "is_executing": false
    }
   },
   "execution_count": 12,
   "outputs": [
    {
     "name": "stdout",
     "text": [
      "__________________________________________________________________________________________________\nLayer (type)                    Output Shape         Param #     Connected to                     \n==================================================================================================\ninput_4 (InputLayer)            (None, 21, 21, 1)    0                                            \n__________________________________________________________________________________________________\nconv2d_31 (Conv2D)              (None, 21, 21, 16)   144         input_4[0][0]                    \n__________________________________________________________________________________________________\nbatch_normalization_22 (BatchNo (None, 21, 21, 16)   64          conv2d_31[0][0]                  \n__________________________________________________________________________________________________\nactivation_25 (Activation)      (None, 21, 21, 16)   0           batch_normalization_22[0][0]     \n__________________________________________________________________________________________________\nconv2d_32 (Conv2D)              (None, 21, 21, 64)   9216        activation_25[0][0]              \n__________________________________________________________________________________________________\nbatch_normalization_23 (BatchNo (None, 21, 21, 64)   256         conv2d_32[0][0]                  \n__________________________________________________________________________________________________\nactivation_26 (Activation)      (None, 21, 21, 64)   0           batch_normalization_23[0][0]     \n__________________________________________________________________________________________________\ndropout_10 (Dropout)            (None, 21, 21, 64)   0           activation_26[0][0]              \n__________________________________________________________________________________________________\nconv2d_33 (Conv2D)              (None, 21, 21, 64)   36864       dropout_10[0][0]                 \n__________________________________________________________________________________________________\nconv2d_34 (Conv2D)              (None, 21, 21, 64)   1024        activation_25[0][0]              \n__________________________________________________________________________________________________\nadd_10 (Add)                    (None, 21, 21, 64)   0           conv2d_33[0][0]                  \n                                                                 conv2d_34[0][0]                  \n__________________________________________________________________________________________________\nbatch_normalization_24 (BatchNo (None, 21, 21, 64)   256         add_10[0][0]                     \n__________________________________________________________________________________________________\nactivation_27 (Activation)      (None, 21, 21, 64)   0           batch_normalization_24[0][0]     \n__________________________________________________________________________________________________\nconv2d_35 (Conv2D)              (None, 11, 11, 128)  73728       activation_27[0][0]              \n__________________________________________________________________________________________________\nbatch_normalization_25 (BatchNo (None, 11, 11, 128)  512         conv2d_35[0][0]                  \n__________________________________________________________________________________________________\nactivation_28 (Activation)      (None, 11, 11, 128)  0           batch_normalization_25[0][0]     \n__________________________________________________________________________________________________\ndropout_11 (Dropout)            (None, 11, 11, 128)  0           activation_28[0][0]              \n__________________________________________________________________________________________________\nconv2d_36 (Conv2D)              (None, 11, 11, 128)  147456      dropout_11[0][0]                 \n__________________________________________________________________________________________________\nconv2d_37 (Conv2D)              (None, 11, 11, 128)  8192        activation_27[0][0]              \n__________________________________________________________________________________________________\nadd_11 (Add)                    (None, 11, 11, 128)  0           conv2d_36[0][0]                  \n                                                                 conv2d_37[0][0]                  \n__________________________________________________________________________________________________\nbatch_normalization_26 (BatchNo (None, 11, 11, 128)  512         add_11[0][0]                     \n__________________________________________________________________________________________________\nactivation_29 (Activation)      (None, 11, 11, 128)  0           batch_normalization_26[0][0]     \n__________________________________________________________________________________________________\nconv2d_38 (Conv2D)              (None, 6, 6, 256)    294912      activation_29[0][0]              \n__________________________________________________________________________________________________\nbatch_normalization_27 (BatchNo (None, 6, 6, 256)    1024        conv2d_38[0][0]                  \n__________________________________________________________________________________________________\nactivation_30 (Activation)      (None, 6, 6, 256)    0           batch_normalization_27[0][0]     \n__________________________________________________________________________________________________\ndropout_12 (Dropout)            (None, 6, 6, 256)    0           activation_30[0][0]              \n__________________________________________________________________________________________________\nconv2d_39 (Conv2D)              (None, 6, 6, 256)    589824      dropout_12[0][0]                 \n__________________________________________________________________________________________________\nconv2d_40 (Conv2D)              (None, 6, 6, 256)    32768       activation_29[0][0]              \n__________________________________________________________________________________________________\nadd_12 (Add)                    (None, 6, 6, 256)    0           conv2d_39[0][0]                  \n                                                                 conv2d_40[0][0]                  \n__________________________________________________________________________________________________\nbatch_normalization_28 (BatchNo (None, 6, 6, 256)    1024        add_12[0][0]                     \n__________________________________________________________________________________________________\nactivation_31 (Activation)      (None, 6, 6, 256)    0           batch_normalization_28[0][0]     \n__________________________________________________________________________________________________\nglobal_average_pooling2d_4 (Glo (None, 256)          0           activation_31[0][0]              \n__________________________________________________________________________________________________\ndense_4 (Dense)                 (None, 72)           18504       global_average_pooling2d_4[0][0] \n__________________________________________________________________________________________________\nactivation_32 (Activation)      (None, 72)           0           dense_4[0][0]                    \n==================================================================================================\nTotal params: 1,216,280\nTrainable params: 1,214,456\nNon-trainable params: 1,824\n__________________________________________________________________________________________________\n"
     ],
     "output_type": "stream"
    }
   ]
  },
  {
   "cell_type": "code",
   "execution_count": 3,
   "outputs": [
    {
     "name": "stdout",
     "text": [
      "WARNING:tensorflow:From /home/ereyes/anaconda3/envs/tf/lib/python3.6/site-packages/tensorflow/python/framework/op_def_library.py:263: colocate_with (from tensorflow.python.framework.ops) is deprecated and will be removed in a future version.\nInstructions for updating:\nColocations handled automatically by placer.\n",
      "_________________________________________________________________\nLayer (type)                 Output Shape              Param #   \n=================================================================\ninput_1 (InputLayer)         (None, 21, 21, 1)         0         \n_________________________________________________________________\nconv2d_1 (Conv2D)            (None, 11, 11, 64)        640       \n_________________________________________________________________\nbatch_normalization_1 (Batch (None, 11, 11, 64)        256       \n_________________________________________________________________\nactivation_1 (Activation)    (None, 11, 11, 64)        0         \n_________________________________________________________________\nconv2d_2 (Conv2D)            (None, 6, 6, 128)         73856     \n_________________________________________________________________\nbatch_normalization_2 (Batch (None, 6, 6, 128)         512       \n_________________________________________________________________\nactivation_2 (Activation)    (None, 6, 6, 128)         0         \n_________________________________________________________________\nconv2d_3 (Conv2D)            (None, 3, 3, 256)         295168    \n_________________________________________________________________\nbatch_normalization_3 (Batch (None, 3, 3, 256)         1024      \n_________________________________________________________________\nactivation_3 (Activation)    (None, 3, 3, 256)         0         \n_________________________________________________________________\nflatten_1 (Flatten)          (None, 2304)              0         \n_________________________________________________________________\ndense_1 (Dense)              (None, 256)               590080    \n=================================================================\nTotal params: 961,536\nTrainable params: 960,640\nNon-trainable params: 896\n_________________________________________________________________\n"
     ],
     "output_type": "stream"
    }
   ],
   "source": [
    "n_channels = x_train.shape[get_channels_axis()]\n",
    "input_side = x_train.shape[2]  # channel side will always be at shape[2]\n",
    "enc = conv_encoder(input_side, n_channels)\n",
    "enc.summary()"
   ],
   "metadata": {
    "collapsed": false,
    "pycharm": {
     "name": "#%%\n",
     "is_executing": false
    }
   }
  },
  {
   "cell_type": "code",
   "execution_count": 5,
   "outputs": [
    {
     "name": "stdout",
     "text": [
      "_________________________________________________________________\nLayer (type)                 Output Shape              Param #   \n=================================================================\ninput_3 (InputLayer)         (None, 256)               0         \n_________________________________________________________________\ndense_3 (Dense)              (None, 2304)              592128    \n_________________________________________________________________\nbatch_normalization_7 (Batch (None, 2304)              9216      \n_________________________________________________________________\nactivation_8 (Activation)    (None, 2304)              0         \n_________________________________________________________________\nreshape_2 (Reshape)          (None, 3, 3, 256)         0         \n_________________________________________________________________\nconv2d_transpose_4 (Conv2DTr (None, 6, 6, 128)         295040    \n_________________________________________________________________\nbatch_normalization_8 (Batch (None, 6, 6, 128)         512       \n_________________________________________________________________\nactivation_9 (Activation)    (None, 6, 6, 128)         0         \n_________________________________________________________________\nconv2d_transpose_5 (Conv2DTr (None, 12, 12, 64)        73792     \n_________________________________________________________________\nbatch_normalization_9 (Batch (None, 12, 12, 64)        256       \n_________________________________________________________________\nactivation_10 (Activation)   (None, 12, 12, 64)        0         \n_________________________________________________________________\nconv2d_transpose_6 (Conv2DTr (None, 24, 24, 1)         577       \n_________________________________________________________________\nactivation_11 (Activation)   (None, 24, 24, 1)         0         \n_________________________________________________________________\nslice_layer (Lambda)         (None, 21, 21, 1)         0         \n=================================================================\nTotal params: 971,521\nTrainable params: 966,529\nNon-trainable params: 4,992\n_________________________________________________________________\n"
     ],
     "output_type": "stream"
    }
   ],
   "source": [
    "dec = conv_decoder(input_side, n_channels)\n",
    "dec.summary()"
   ],
   "metadata": {
    "collapsed": false,
    "pycharm": {
     "name": "#%%\n",
     "is_executing": false
    }
   }
  },
  {
   "cell_type": "code",
   "execution_count": null,
   "outputs": [],
   "source": [
    "\n"
   ],
   "metadata": {
    "collapsed": false,
    "pycharm": {
     "name": "#%%\n"
    }
   }
  }
 ],
 "metadata": {
  "language_info": {
   "codemirror_mode": {
    "name": "ipython",
    "version": 2
   },
   "file_extension": ".py",
   "mimetype": "text/x-python",
   "name": "python",
   "nbconvert_exporter": "python",
   "pygments_lexer": "ipython2",
   "version": "2.7.6"
  },
  "kernelspec": {
   "name": "python3",
   "language": "python",
   "display_name": "Python 3"
  },
  "pycharm": {
   "stem_cell": {
    "cell_type": "raw",
    "source": [],
    "metadata": {
     "collapsed": false
    }
   }
  }
 },
 "nbformat": 4,
 "nbformat_minor": 0
}