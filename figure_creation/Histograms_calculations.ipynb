{
 "cells": [
  {
   "cell_type": "code",
   "execution_count": 3,
   "metadata": {
    "collapsed": true,
    "pycharm": {
     "is_executing": false
    }
   },
   "outputs": [
    {
     "name": "stderr",
     "text": [
      "UsageError: Line magic function `%matplotlib.inline` not found.\n"
     ],
     "output_type": "stream"
    }
   ],
   "source": [
    "import os\n",
    "import sys\n",
    "import numpy as np\n",
    "PROJECT_PATH = os.path.abspath(\n",
    "    os.path.join(os.path.dirname('__file__'), '..'))\n",
    "sys.path.append(PROJECT_PATH)\n",
    "\n",
    "from parameters import loader_keys\n",
    "from modules.data_loaders.ztf_small_outlier_loader import ZTFSmallOutlierLoader\n",
    "import matplotlib.pyplot as plt\n",
    "%matplotlib.inline"
   ]
  },
  {
   "cell_type": "code",
   "execution_count": null,
   "outputs": [],
   "source": [
    "def _save_histogram(self, score_metric_dict, score_name, dataset_name,\n",
    "    class_name, save_folder_path=None):\n",
    "  if save_folder_path is None:\n",
    "    return\n",
    "  # TODO: refactor usage of percentile, include it in metrics and\n",
    "  #  get it from key\n",
    "  # percentile = 95.46\n",
    "  scores_val = score_metric_dict['scores_val']\n",
    "  auc_roc = score_metric_dict['roc_auc']\n",
    "  accuracies = score_metric_dict['accuracies']\n",
    "  scores = score_metric_dict['scores']\n",
    "  labels = score_metric_dict['labels']\n",
    "  thresholds = score_metric_dict['roc_thresholds']\n",
    "  accuracy_at_percentile = score_metric_dict['acc_at_percentil']\n",
    "  inliers_scores = scores[labels == 1]\n",
    "  outliers_scores = scores[labels != 1]\n",
    "  min_score = np.min(scores)\n",
    "  max_score = np.max(scores)\n",
    "  thr_percentile = np.percentile(scores_val, 100 - self.percentile)\n",
    "  fig = plt.figure(figsize=(8, 6))\n",
    "  ax_hist = fig.add_subplot(111)\n",
    "  ax_hist.set_title(\n",
    "      'AUC_ROC: %.2f%%, BEST ACC: %.2f%%' % (\n",
    "        auc_roc * 100, np.max(accuracies) * 100))\n",
    "  ax_acc = ax_hist.twinx()\n",
    "  hist1 = ax_hist.hist(inliers_scores, 300, alpha=0.5,\n",
    "                       label='inlier', range=[min_score, max_score])\n",
    "  hist2 = ax_hist.hist(outliers_scores, 300, alpha=0.5,\n",
    "                       label='outlier', range=[min_score, max_score])\n",
    "  ax_hist.set_yscale('log')\n",
    "  _, max_ = ax_hist.set_ylim()\n",
    "  ax_hist.set_ylabel('Counts', fontsize=12)\n",
    "  ax_hist.set_xlabel(score_name, fontsize=12)\n",
    "  # acc plot\n",
    "  ax_acc.set_ylim([0.5, 1.0])\n",
    "  ax_acc.yaxis.set_ticks(np.arange(0.5, 1.05, 0.05))\n",
    "  ax_acc.set_ylabel('Accuracy', fontsize=12)\n",
    "  acc_plot = ax_acc.plot(thresholds, accuracies, lw=2,\n",
    "                         label='Accuracy by\\nthresholds',\n",
    "                         color='black')\n",
    "  percentil_plot = ax_hist.plot([thr_percentile, thr_percentile], [0, max_],\n",
    "                                'k--',\n",
    "                                label='thr percentil %i on %s' % (\n",
    "                                  self.percentile, dataset_name))\n",
    "  ax_hist.text(thr_percentile,\n",
    "               max_ * 0.6,\n",
    "               'Acc: {:.2f}%'.format(accuracy_at_percentile * 100))\n",
    "  ax_acc.grid(ls='--')\n",
    "  fig.legend(loc=\"upper right\", bbox_to_anchor=(1, 1),\n",
    "             bbox_transform=ax_hist.transAxes)\n",
    "  results_name = self._get_score_result_name(score_name, dataset_name,\n",
    "                                             class_name)\n",
    "  fig.savefig(\n",
    "      os.path.join(save_folder_path, '%s_hist_thr_acc.png' % results_name),\n",
    "      bbox_inches='tight')\n",
    "  plt.close()\n"
   ],
   "metadata": {
    "collapsed": false,
    "pycharm": {
     "name": "#%%\n"
    }
   }
  },
  {
   "cell_type": "code",
   "execution_count": 7,
   "outputs": [],
   "source": [
    "data_path = os.path.join(\n",
    "    PROJECT_PATH, 'figure_creation','aux',\n",
    "    'small-ztf-PlusKernel-Transformer-after-selection-29_Transformer-OD-Model-dirichlet_real_20200131-163906.npz')\n",
    "data_dict = dict(np.load(data_path))\n",
    "\n"
   ],
   "metadata": {
    "collapsed": false,
    "pycharm": {
     "name": "#%%\n",
     "is_executing": false
    }
   }
  },
  {
   "cell_type": "code",
   "execution_count": 13,
   "outputs": [],
   "source": [
    "def save_histogram(score_metric_dict, score_name, dataset_name,\n",
    "    class_name):\n",
    "\n",
    "  # TODO: refactor usage of percentile, include it in metrics and\n",
    "  #  get it from key\n",
    "  percentile = 95.46\n",
    "  scores_val = score_metric_dict['scores_val']\n",
    "  auc_roc = score_metric_dict['roc_auc']\n",
    "  accuracies = score_metric_dict['accuracies']\n",
    "  scores = score_metric_dict['scores']\n",
    "  labels = score_metric_dict['labels']\n",
    "  thresholds = score_metric_dict['roc_thresholds']\n",
    "  accuracy_at_percentile = score_metric_dict['acc_at_percentil']\n",
    "  inliers_scores = scores[labels == 1]\n",
    "  outliers_scores = scores[labels != 1]\n",
    "  min_score = np.min(scores)\n",
    "  max_score = np.max(scores)\n",
    "  thr_percentile = np.percentile(scores_val, 100 - percentile)\n",
    "  fig = plt.figure(figsize=(8, 6))\n",
    "  ax_hist = fig.add_subplot(111)\n",
    "  ax_hist.set_title(\n",
    "      'AUC_ROC: %.2f%%, BEST ACC: %.2f%%' % (\n",
    "        auc_roc * 100, np.max(accuracies) * 100))\n",
    "  ax_acc = ax_hist.twinx()\n",
    "  hist1 = ax_hist.hist(inliers_scores, 300, alpha=0.5,\n",
    "                       label='inlier', range=[min_score, max_score])\n",
    "  hist2 = ax_hist.hist(outliers_scores, 300, alpha=0.5,\n",
    "                       label='outlier', range=[min_score, max_score])\n",
    "  ax_hist.set_yscale('log')\n",
    "  _, max_ = ax_hist.set_ylim()\n",
    "  ax_hist.set_ylabel('Counts', fontsize=12)\n",
    "  ax_hist.set_xlabel(score_name, fontsize=12)\n",
    "  # acc plot\n",
    "  ax_acc.set_ylim([0.5, 1.0])\n",
    "  ax_acc.yaxis.set_ticks(np.arange(0.5, 1.05, 0.05))\n",
    "  ax_acc.set_ylabel('Accuracy', fontsize=12)\n",
    "  acc_plot = ax_acc.plot(thresholds, accuracies, lw=2,\n",
    "                         label='Accuracy by\\nthresholds',\n",
    "                         color='black')\n",
    "  percentil_plot = ax_hist.plot([thr_percentile, thr_percentile], [0, max_],\n",
    "                                'k--',\n",
    "                                label='thr percentil %i on %s' % (\n",
    "                                  percentile, dataset_name))\n",
    "  ax_hist.text(thr_percentile,\n",
    "               max_ * 0.6,\n",
    "               'Acc: {:.2f}%'.format(accuracy_at_percentile * 100))\n",
    "  ax_acc.grid(ls='--')\n",
    "  fig.legend(loc=\"upper right\", bbox_to_anchor=(1, 1),\n",
    "             bbox_transform=ax_hist.transAxes)\n",
    "\n",
    "  # fig.savefig(\n",
    "  #     os.path.join(save_folder_path, '%s_hist_thr_acc.png' % results_name),\n",
    "  #     bbox_inches='tight')\n",
    "  plt.show()"
   ],
   "metadata": {
    "collapsed": false,
    "pycharm": {
     "name": "#%%\n",
     "is_executing": false
    }
   }
  },
  {
   "cell_type": "code",
   "execution_count": 14,
   "outputs": [
    {
     "data": {
      "text/plain": "<Figure size 576x432 with 2 Axes>",
      "image/png": "[encoded data removed]"
     },
     "metadata": {
      "needs_background": "light"
     },
     "output_type": "display_data"
    }
   ],
   "source": [
    "save_histogram(data_dict, 'diri', 'ztf', 'bogus')"
   ],
   "metadata": {
    "collapsed": false,
    "pycharm": {
     "name": "#%%\n",
     "is_executing": false
    }
   }
  },
  {
   "cell_type": "code",
   "execution_count": null,
   "outputs": [],
   "source": [
    "\n"
   ],
   "metadata": {
    "collapsed": false,
    "pycharm": {
     "name": "#%%\n"
    }
   }
  }
 ],
 "metadata": {
  "kernelspec": {
   "display_name": "Python 3",
   "language": "python",
   "name": "python3"
  },
  "language_info": {
   "codemirror_mode": {
    "name": "ipython",
    "version": 2
   },
   "file_extension": ".py",
   "mimetype": "text/x-python",
   "name": "python",
   "nbconvert_exporter": "python",
   "pygments_lexer": "ipython2",
   "version": "2.7.6"
  },
  "pycharm": {
   "stem_cell": {
    "cell_type": "raw",
    "source": [],
    "metadata": {
     "collapsed": false
    }
   }
  }
 },
 "nbformat": 4,
 "nbformat_minor": 0
}